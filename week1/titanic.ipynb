{
 "cells": [
  {
   "cell_type": "code",
   "execution_count": 168,
   "metadata": {},
   "outputs": [
    {
     "name": "stdout",
     "output_type": "stream",
     "text": [
      "groups\n",
      "Sex\n",
      "female    314\n",
      "male      577\n",
      "dtype: int64\n",
      "total passengers count\n",
      "891\n",
      "survived passengers\n",
      "342\n",
      "percents of surviving\n",
      "38.38383838383838\n",
      "first class passengers\n",
      "216.0\n",
      "24.242424242424242\n",
      "age median\n",
      "28.0\n",
      "age mean\n",
      "29.69911764705882\n",
      "correlation\n",
      "0.41483769862015557\n",
      "most popular female name\n",
      "Anna\n"
     ]
    }
   ],
   "source": [
    "import pandas\n",
    "\n",
    "data = pandas.read_csv(\"titanic.csv\", index_col=\"PassengerId\")"
   ]
  },
  {
   "cell_type": "code",
   "execution_count": 171,
   "metadata": {},
   "outputs": [
    {
     "name": "stdout",
     "output_type": "stream",
     "text": [
      "groups\n"
     ]
    },
    {
     "data": {
      "text/plain": [
       "Sex\n",
       "female    314\n",
       "male      577\n",
       "dtype: int64"
      ]
     },
     "metadata": {},
     "output_type": "display_data"
    }
   ],
   "source": [
    "print(\"groups\")\n",
    "display(data.groupby(\"Sex\").size())"
   ]
  },
  {
   "cell_type": "code",
   "execution_count": null,
   "metadata": {},
   "outputs": [],
   "source": [
    "print(\"total passengers count\")\n",
    "total = data[\"Survived\"].size\n",
    "print(total)\n",
    "print(\"survived passengers\")\n",
    "print(data[\"Survived\"].sum())\n",
    "print(\"percents of surviving\")\n",
    "print(data[\"Survived\"].sum() / total * 100)"
   ]
  },
  {
   "cell_type": "code",
   "execution_count": null,
   "metadata": {},
   "outputs": [],
   "source": [
    "print(\"first class passengers\")\n",
    "f = data[\"Pclass\"] == 1\n",
    "pclass = data[\"Pclass\"].where(f).dropna().sum()\n",
    "print(pclass)\n",
    "print(pclass / total * 100)"
   ]
  },
  {
   "cell_type": "code",
   "execution_count": null,
   "metadata": {},
   "outputs": [],
   "source": [
    "print(\"age median\")\n",
    "print(data[\"Age\"].median())\n",
    "print(\"age mean\")\n",
    "print(data[\"Age\"].mean())"
   ]
  },
  {
   "cell_type": "code",
   "execution_count": 173,
   "metadata": {},
   "outputs": [
    {
     "name": "stdout",
     "output_type": "stream",
     "text": [
      "correlation\n",
      "0.41483769862015557\n"
     ]
    }
   ],
   "source": [
    "print(\"correlation\")\n",
    "print(data[\"SibSp\"].corr(data[\"Parch\"]))"
   ]
  },
  {
   "cell_type": "code",
   "execution_count": 172,
   "metadata": {},
   "outputs": [
    {
     "name": "stdout",
     "output_type": "stream",
     "text": [
      "most popular female name\n",
      "Anna\n"
     ]
    }
   ],
   "source": [
    "print(\"most popular female name\")\n",
    "m = data[\"Sex\"] == \"female\"\n",
    "def parseName(name):\n",
    "    index = -1\n",
    "    isMiss = False\n",
    "    try:\n",
    "        index = name.index(\"(\")\n",
    "        index += 1\n",
    "    except ValueError:\n",
    "        pass\n",
    "    \n",
    "    if index == -1:\n",
    "        try:\n",
    "            index = name.index(\"Miss.\")\n",
    "            index += 6\n",
    "            isMiss = True\n",
    "        except ValueError:\n",
    "            pass   \n",
    "    if index >= 0:\n",
    "        realName = name[index:].split(\" \")\n",
    "        result = realName[0].replace('\"', \"\").replace(\"(\", \"\").replace(\")\", \"\")\n",
    "        return result\n",
    "names = data[\"Name\"].where(m).dropna().map(parseName)\n",
    "print(names.groupby(names.values).count().idxmax())"
   ]
  },
  {
   "cell_type": "code",
   "execution_count": null,
   "metadata": {},
   "outputs": [],
   "source": []
  }
 ],
 "metadata": {
  "kernelspec": {
   "display_name": "Python 3",
   "language": "python",
   "name": "python3"
  },
  "language_info": {
   "codemirror_mode": {
    "name": "ipython",
    "version": 3
   },
   "file_extension": ".py",
   "mimetype": "text/x-python",
   "name": "python",
   "nbconvert_exporter": "python",
   "pygments_lexer": "ipython3",
   "version": "3.7.2"
  }
 },
 "nbformat": 4,
 "nbformat_minor": 2
}
