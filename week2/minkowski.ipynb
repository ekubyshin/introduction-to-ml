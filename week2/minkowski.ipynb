{
 "cells": [
  {
   "cell_type": "code",
   "execution_count": 13,
   "metadata": {},
   "outputs": [
    {
     "data": {
      "text/plain": [
       "1.0   -11.833733\n",
       "dtype: float64"
      ]
     },
     "metadata": {},
     "output_type": "display_data"
    }
   ],
   "source": [
    "import pandas as pd\n",
    "from sklearn.neighbors import KNeighborsRegressor\n",
    "from sklearn import datasets\n",
    "from sklearn.preprocessing import scale\n",
    "import numpy as np\n",
    "from sklearn.model_selection import KFold, cross_val_score\n",
    "\n",
    "boston = datasets.load_boston()\n",
    "X = scale(boston.data)\n",
    "Y = boston.targetf\n",
    "\n",
    "kfold = KFold(n_splits=5, shuffle=True, random_state=42)\n",
    "splitted = kfold.split(X)\n",
    "\n",
    "def accuracy(cv, X, Y):\n",
    "    scores = []\n",
    "    #create a range from 1 to 50 to calculate cross_val_score with n_neighbors from 1 to 50\n",
    "    k_range = np.linspace(1, 10, num=200)\n",
    "    for p in k_range:\n",
    "        neigh = KNeighborsRegressor(n_neighbors=5, weights='distance',p=p)\n",
    "        score = cross_val_score(cv=kfold, estimator=neigh, X=X, y=Y, scoring=\"neg_mean_squared_error\")\n",
    "        scores.append(score)\n",
    "    #calculate mean for each group and sort values\n",
    "    return pd.DataFrame(scores, k_range).max(axis=1).sort_values(ascending=False)\n",
    "res = accuracy(kfold, X, Y)\n",
    "display(res.head(1))"
   ]
  },
  {
   "cell_type": "code",
   "execution_count": null,
   "metadata": {},
   "outputs": [],
   "source": []
  }
 ],
 "metadata": {
  "kernelspec": {
   "display_name": "Python 3",
   "language": "python",
   "name": "python3"
  },
  "language_info": {
   "codemirror_mode": {
    "name": "ipython",
    "version": 3
   },
   "file_extension": ".py",
   "mimetype": "text/x-python",
   "name": "python",
   "nbconvert_exporter": "python",
   "pygments_lexer": "ipython3",
   "version": "3.7.2"
  }
 },
 "nbformat": 4,
 "nbformat_minor": 2
}
