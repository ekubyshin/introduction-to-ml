{
 "cells": [
  {
   "cell_type": "code",
   "execution_count": 102,
   "metadata": {},
   "outputs": [
    {
     "name": "stdout",
     "output_type": "stream",
     "text": [
      "res for input attributes\n"
     ]
    },
    {
     "data": {
      "text/plain": [
       "1    0.730476\n",
       "dtype: float64"
      ]
     },
     "metadata": {},
     "output_type": "display_data"
    },
    {
     "name": "stdout",
     "output_type": "stream",
     "text": [
      "res for scaled attributes\n"
     ]
    },
    {
     "data": {
      "text/plain": [
       "29    0.977619\n",
       "dtype: float64"
      ]
     },
     "metadata": {},
     "output_type": "display_data"
    }
   ],
   "source": [
    "import pandas as pd\n",
    "import numpy as np\n",
    "from sklearn.neighbors import KNeighborsClassifier as kNN\n",
    "from sklearn.model_selection import KFold\n",
    "from sklearn.model_selection import cross_val_score\n",
    "from sklearn.preprocessing import scale\n",
    "data = pd.read_csv(\"wine.data\", header=None)\n",
    "Y = data[0].values\n",
    "cols = np.arange(1,14)\n",
    "X = data[cols].values\n",
    "#create KFold with 5 splits\n",
    "kfold = KFold(n_splits=5, shuffle=True,random_state=42)\n",
    "splitted = kfold.split(X)\n",
    "def accuracy(cv, X, Y):\n",
    "    scores = []\n",
    "    #create a range from 1 to 50 to calculate cross_val_score with n_neighbors from 1 to 50\n",
    "    k_range = np.arange(1,51)\n",
    "    for i in k_range:\n",
    "        neigh = kNN(n_neighbors=i)\n",
    "        score = cross_val_score(cv=kfold, estimator=neigh, X=X, y=Y, scoring=\"accuracy\")\n",
    "        scores.append(score)\n",
    "    #calculate mean for each group and sort values\n",
    "    return pd.DataFrame(scores, k_range).mean(axis=1).sort_values(ascending=False)\n",
    "#get the result\n",
    "res = accuracy(kfold, X, Y)\n",
    "print(\"res for input attributes\")\n",
    "display(res.head(1))\n",
    "\n",
    "scale_X = scale(X)\n",
    "scale_res = accuracy(kfold, scale_X, Y)\n",
    "print(\"res for scaled attributes\")\n",
    "display(scale_res.head(1))"
   ]
  },
  {
   "cell_type": "code",
   "execution_count": null,
   "metadata": {},
   "outputs": [],
   "source": []
  }
 ],
 "metadata": {
  "kernelspec": {
   "display_name": "Python 3",
   "language": "python",
   "name": "python3"
  },
  "language_info": {
   "codemirror_mode": {
    "name": "ipython",
    "version": 3
   },
   "file_extension": ".py",
   "mimetype": "text/x-python",
   "name": "python",
   "nbconvert_exporter": "python",
   "pygments_lexer": "ipython3",
   "version": "3.7.2"
  }
 },
 "nbformat": 4,
 "nbformat_minor": 2
}
